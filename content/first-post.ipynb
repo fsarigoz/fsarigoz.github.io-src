{
  "cells": [
    {
      "cell_type": "markdown",
      "source": [
        "# First Post\n",
        "\n",
        "My journey started with Signal Processing and Communications, fields very much intertwined with Machine Learning. In fact, my first serious signal processing project was the use of K-means clustering on images (aka Vector Quantization) and later using Neural Networks for binary classification of signals from a data storage channel. \n",
        "\n",
        "At this juncture in my career in Data Science, I feel like having come across an old friend, however now endowed with so many powerful tools and resources. Libraries developed around the R-Studio are amazing. The Python Scikit-Learn package is quite comprehensive. I really enjoy programming in Python which to me is reminiscent of Matlab (and it's free!). What I really hooked up with is the Ipython (now called Jupyter) notebook. Being able to write notes, produce some code and see the results right beneath in a report format lead to fun AND structured learning. There are so many resources out there for anybody to pick up the necessary skills to be a good data scientist. \n",
        "\n",
        "I am truly impressed with the ecosystem built around this new exciting field. I think the power of the available material and tools is what enabled me to wade into its deep waters in such a short time. There is so much to learn, but the journey is good. \n",
        "\n",
        "Before diving into \"learning\" with the \"machine\" word in front, I have spent the past year trying to build a language learning system in the form of a startup. To me, the process of learning is just fascinating. Teaching what you have learned in fascination is itself fascinating. Things did not work out as I had planned, but I have learned a lot along the way. The journey goes on.\n",
        "\n",
        "I intend to post self-assigned projects on this web site using, of course, the Jupyter notebook format. Thanks to GitHub and to the wonderful python tool, Pelican, I am able to post my notebooks as web pages. If you want to be part of this journey, follow along!\n",
        "\n",
        "> This site was prepared using Pelican. I have followed the excellent instructions on this [site](https://www.dataquest.io/blog/how-to-setup-a-data-science-blog/) to make this blog on Github Pages. "
      ],
      "metadata": {}
    }
  ],
  "metadata": {
    "anaconda-cloud": {},
    "kernelspec": {
      "name": "python3",
      "language": "python",
      "display_name": "Python 3"
    },
    "language_info": {
      "name": "python",
      "version": "3.7.3",
      "mimetype": "text/x-python",
      "codemirror_mode": {
        "name": "ipython",
        "version": 3
      },
      "pygments_lexer": "ipython3",
      "nbconvert_exporter": "python",
      "file_extension": ".py"
    },
    "kernel_info": {
      "name": "python3"
    },
    "nteract": {
      "version": "0.14.2"
    }
  },
  "nbformat": 4,
  "nbformat_minor": 0
}