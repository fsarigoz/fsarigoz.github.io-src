{
  "cells": [
    {
      "cell_type": "markdown",
      "source": [
        "# About Me\n",
        "\n",
        "I’m a Data Science enthusiast and a 15+ year veteran in developing machine learning algorithms. I love Data Science and making Data Science produce results. \n",
        "\n",
        "The interdisciplinary nature of Data Science and the variety of work that it spans, -from getting engaged with customers to define the right problem to delivering products and presenting outcomes to stakeholders-, are the two major characteristics of this field that drive my enthusiasm every single day.\n",
        "\n",
        "Since I took over the role of Senior Manager at Ellie Mae in 2017, I have encountered and dealt with all aspects of making Data Science operational in the company, almost from scratch in many cases.  In general, I follow a four-pronged strategy: target low hanging fruits, aim to go to production as quickly as possible, seek for high parallelism in product development, and infuse agility in the team workflow as suitable for Data Science work. \n",
        "\n",
        "I have built and managed the team to bring quick results to fruition. In 2017, we won the company-wide Hackathon championship working in conjunction with a team from a 1-month-old acquisition and produced a prototype that eventually became a viable product (lead prioritization). Displaying a similar agility, I lead my team to get to a production ready status only 5 months after getting access to production documents which is part of a huge project (smart document recognition) that involves processing 3 billion pages a year as part of the mortgage process. \n",
        "\n",
        "To keep the innovative startup spirit throughout the year, I have instituted a special workflow based on monthly or bi-monthly demo targets aligned with the product roadmap. I believe in close collaboration across teams and making them part of the ML product development process. \n",
        "\n",
        "I’m not a people’s manager type. I like doing technical work alongside with my team members. I take part in developing algorithms and solutions for our projects. In fact, I personally developed the critical components of our document recognition architecture and image processing modules. \n",
        "\n",
        "I put a lot of emphasis in working with young people.  So far, at my current company I have converted all my summer interns (who have all come from prestigious CA universities) to full-time employment.\n",
        "\n",
        "Finally, learning is a huge part of my life and a central element in how I run my team. \n",
        "\n",
        "My north star is to be on the path to make the biggest impact."
      ],
      "metadata": {}
    }
  ],
  "metadata": {
    "anaconda-cloud": {},
    "kernelspec": {
      "name": "python3",
      "language": "python",
      "display_name": "Python 3"
    },
    "language_info": {
      "name": "python",
      "version": "3.7.3",
      "mimetype": "text/x-python",
      "codemirror_mode": {
        "name": "ipython",
        "version": 3
      },
      "pygments_lexer": "ipython3",
      "nbconvert_exporter": "python",
      "file_extension": ".py"
    },
    "kernel_info": {
      "name": "python3"
    },
    "nteract": {
      "version": "0.14.3"
    }
  },
  "nbformat": 4,
  "nbformat_minor": 2
}