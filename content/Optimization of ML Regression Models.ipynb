{
 "cells": [
  {
   "cell_type": "markdown",
   "metadata": {},
   "source": [
    "# Optimization of ML Regression Models\n",
    "In this project, we will compare the performance of different machine learning regression models on the Auto-MPG data set. In addition, we will look into how to optimize each model for best performance. \n",
    "\n",
    "The `PipeLine` and `GridSearch` tools from the Scikit-Learn library will be utilized. \n",
    "\n",
    "The following regression models will be studied:\n",
    "* Linear Models: `LinearRegression`, `Ridge`, `Lasso` and `ElasticNet`\n",
    "* K-nearest Neighbor Regression: `KNeighborsRegressor`\n",
    "* Support Vector Regression: `SVR` with `linear`, `poly`, `sigmoid` and `rbf` kernels\n",
    "* Decision Tree Regression: `DecisionTreeRegressor` and `ExtraTreeRegressor`\n",
    "* Bagging Algorithms: `BaggingRegressor`, `RandomForestRegressor` and `ExtraTreesRegressor`\n",
    "* Boosting Algorithms: `AdaBoostRegressor` and `GradientBoostingRegressor`\n",
    "\n",
    "For this project we will use the [`Auto MPG`](https://archive.ics.uci.edu/ml/datasets/Auto+MPG) data set. Please follow the instructions in the post [`Working with the Auto MPG Data Set`](./autompg-data.html) to get yourself familiar with the dataset, prepare the data for analysis and generate the `auto-mpg.csv` that will be used in this project."
   ]
  },
  {
   "cell_type": "markdown",
   "metadata": {},
   "source": [
    "***\n",
    "## 1. Loading and Preparing the Data"
   ]
  },
  {
   "cell_type": "markdown",
   "metadata": {},
   "source": [
    "Sections 1 in the previous post titled [`Impact of Scaling on Machine Learning Algorithms`](./scaling-ML) go over the scaling differences in the data in detail.\n",
    "\n",
    "Below, the code that separates the data into inputs, `X` and output, `y` is provided."
   ]
  },
  {
   "cell_type": "code",
   "execution_count": 3,
   "metadata": {
    "collapsed": false
   },
   "outputs": [
    {
     "data": {
      "text/html": [
       "<div>\n",
       "<table border=\"1\" class=\"dataframe\">\n",
       "  <thead>\n",
       "    <tr style=\"text-align: right;\">\n",
       "      <th></th>\n",
       "      <th>mpg</th>\n",
       "      <th>cylinders</th>\n",
       "      <th>displacement</th>\n",
       "      <th>horsepower</th>\n",
       "      <th>weight</th>\n",
       "      <th>acceleration</th>\n",
       "      <th>year</th>\n",
       "      <th>origin</th>\n",
       "      <th>name</th>\n",
       "    </tr>\n",
       "  </thead>\n",
       "  <tbody>\n",
       "    <tr>\n",
       "      <th>0</th>\n",
       "      <td>18.0</td>\n",
       "      <td>8</td>\n",
       "      <td>307.0</td>\n",
       "      <td>130.0</td>\n",
       "      <td>3504.0</td>\n",
       "      <td>12.0</td>\n",
       "      <td>70</td>\n",
       "      <td>1</td>\n",
       "      <td>chevrolet chevelle malibu</td>\n",
       "    </tr>\n",
       "    <tr>\n",
       "      <th>1</th>\n",
       "      <td>15.0</td>\n",
       "      <td>8</td>\n",
       "      <td>350.0</td>\n",
       "      <td>165.0</td>\n",
       "      <td>3693.0</td>\n",
       "      <td>11.5</td>\n",
       "      <td>70</td>\n",
       "      <td>1</td>\n",
       "      <td>buick skylark 320</td>\n",
       "    </tr>\n",
       "    <tr>\n",
       "      <th>2</th>\n",
       "      <td>18.0</td>\n",
       "      <td>8</td>\n",
       "      <td>318.0</td>\n",
       "      <td>150.0</td>\n",
       "      <td>3436.0</td>\n",
       "      <td>11.0</td>\n",
       "      <td>70</td>\n",
       "      <td>1</td>\n",
       "      <td>plymouth satellite</td>\n",
       "    </tr>\n",
       "  </tbody>\n",
       "</table>\n",
       "</div>"
      ],
      "text/plain": [
       "    mpg  cylinders  displacement  horsepower  weight  acceleration  year  \\\n",
       "0  18.0          8         307.0       130.0  3504.0          12.0    70   \n",
       "1  15.0          8         350.0       165.0  3693.0          11.5    70   \n",
       "2  18.0          8         318.0       150.0  3436.0          11.0    70   \n",
       "\n",
       "   origin                       name  \n",
       "0       1  chevrolet chevelle malibu  \n",
       "1       1          buick skylark 320  \n",
       "2       1         plymouth satellite  "
      ]
     },
     "execution_count": 3,
     "metadata": {},
     "output_type": "execute_result"
    }
   ],
   "source": [
    "import pandas as pd\n",
    "import numpy as np\n",
    "\n",
    "filename = \"auto-mpg.csv\"\n",
    "df = pd.read_csv(filename)\n",
    "output = df.iloc[:,0]\n",
    "features = df.iloc[:, 1:8]\n",
    "X = features.values\n",
    "y = output.values\n",
    "df.head(3)"
   ]
  },
  {
   "cell_type": "markdown",
   "metadata": {},
   "source": [
    "The y variable holds the mpg column data and the X variable holds the data in the cylinders, displacement, horsepower, weight, acceleration, year and origin columns (the name column is not used in this project)."
   ]
  },
  {
   "cell_type": "markdown",
   "metadata": {},
   "source": [
    "***\n",
    "## 2. Test and Display Functions"
   ]
  },
  {
   "cell_type": "markdown",
   "metadata": {},
   "source": [
    "The following funtions will be used in the remaining parts of this post."
   ]
  },
  {
   "cell_type": "code",
   "execution_count": 4,
   "metadata": {
    "collapsed": true
   },
   "outputs": [],
   "source": [
    "def get_modelname(model):\n",
    "    name = str(model).partition('(')[0]\n",
    "    if name=='SVR':\n",
    "        name = model.get_params()['kernel'] + name\n",
    "    return(name)"
   ]
  },
  {
   "cell_type": "markdown",
   "metadata": {},
   "source": [
    "`get_modelname` extracts the name of the model from the model function call. For support vector regression, the kernel name is also prepended to the model name. "
   ]
  },
  {
   "cell_type": "code",
   "execution_count": 5,
   "metadata": {
    "collapsed": false
   },
   "outputs": [],
   "source": [
    "def evalModels(models, Xw, y, boxPlotOn=True):\n",
    "    from sklearn.preprocessing import StandardScaler # Standardize data (0 mean, 1 stdev)\n",
    "    from sklearn.model_selection import KFold\n",
    "    from sklearn.model_selection import cross_val_score\n",
    "    from sklearn.pipeline import Pipeline, make_pipeline\n",
    "\n",
    "    scoring = 'r2'  #'neg_mean_squared_error'\n",
    "    modelnames = []\n",
    "    results = []\n",
    "    for model in models:\n",
    "        pipe = make_pipeline( StandardScaler(), model )\n",
    "        kfold = KFold(n_splits=8, random_state=6, shuffle=True)\n",
    "        cv_results = cross_val_score(pipe, Xw, y, cv=kfold, scoring=scoring)\n",
    "        modelname = get_modelname(model)\n",
    "        print \"%s: %.3f %.3f\" %(modelname, cv_results.mean(), cv_results.std())\n",
    "        modelnames.append(modelname)\n",
    "        results.append(cv_results)\n",
    "    \n",
    "    if boxPlotOn:\n",
    "        import matplotlib.pyplot as plt\n",
    "        # boxplot algorithm comparison\n",
    "        fig = plt.figure()\n",
    "        fig.suptitle('Algorithm Comparison')\n",
    "        ax = fig.add_subplot(111)\n",
    "        plt.boxplot(results, showmeans=True)\n",
    "        ax.set_xticklabels(modelnames, fontsize=9)\n",
    "        plt.ylim(0.7, 0.95)\n",
    "        plt.show()\n",
    "    \n",
    "    return(results)"
   ]
  },
  {
   "cell_type": "markdown",
   "metadata": {},
   "source": [
    "The `evalModels` function includes the following:\n",
    "* A `pipeline` that includes standardization of the input vectors (so that variance is 1 and mean is zero) and application of the ML model. \n",
    "* 8-split, shuffled cross-validation\n",
    "* Box plotting all the performance results"
   ]
  },
  {
   "cell_type": "markdown",
   "metadata": {},
   "source": [
    "***\n",
    "## 3. Pipelining transformers and predictors"
   ]
  },
  {
   "cell_type": "markdown",
   "metadata": {
    "collapsed": true
   },
   "source": [
    "It is important to extract tranformation parameters (such as scaling) from only the training data and keep the testing data untouched in this regard. The most convenient way to accomplish this by using the pipelining feature in scikit-learn. \n",
    "\n",
    "The following example from the scikit-learn website shows how to achieve this without pipelining:"
   ]
  },
  {
   "cell_type": "code",
   "execution_count": null,
   "metadata": {
    "collapsed": true
   },
   "outputs": [],
   "source": [
    "from sklearn import preprocessing\n",
    "\n",
    "X_train, X_test, y_train, y_test = train_test_split(\n",
    "    iris.data, iris.target, test_size=0.4, random_state=0)\n",
    "scaler = preprocessing.StandardScaler().fit(X_train)\n",
    "X_train_transformed = scaler.transform(X_train)\n",
    "clf = svm.SVC(C=1).fit(X_train_transformed, y_train)\n",
    "X_test_transformed = scaler.transform(X_test)\n",
    "clf.score(X_test_transformed, y_test)  "
   ]
  },
  {
   "cell_type": "markdown",
   "metadata": {},
   "source": [
    "The following sample code using a pipeline, however, is much simpler, allows treating the pipeline as a model so that multi-split cross validation can be applied easily:"
   ]
  },
  {
   "cell_type": "code",
   "execution_count": null,
   "metadata": {
    "collapsed": true
   },
   "outputs": [],
   "source": [
    "from sklearn.pipeline import make_pipeline\n",
    "clf = make_pipeline(preprocessing.StandardScaler(), svm.SVC(C=1))\n",
    "cross_val_score(clf, iris.data, iris.target, cv=cv)               "
   ]
  },
  {
   "cell_type": "markdown",
   "metadata": {},
   "source": [
    "In this project, all performance simulations are run using a pipeline formed by calling the function `evalModels` above."
   ]
  },
  {
   "cell_type": "markdown",
   "metadata": {},
   "source": [
    "***\n",
    "## 4. Comparison of ML regression models"
   ]
  },
  {
   "cell_type": "markdown",
   "metadata": {},
   "source": [
    "In this section we run all regression models using 8-split cross-validation and compare the R² results.\n",
    "\n",
    "All regressors have been manually optimized. In other words, a manual search has been conducted in the parameter space of each regressor for the best performing parameter set which was then used to call each model. The default setting is kept for those parameters that did not make any noticeable difference. \n",
    "\n",
    "All input data has been standardized on the training data set."
   ]
  },
  {
   "cell_type": "markdown",
   "metadata": {},
   "source": [
    "### 4.1 Linear Regression"
   ]
  },
  {
   "cell_type": "code",
   "execution_count": 6,
   "metadata": {
    "collapsed": false
   },
   "outputs": [
    {
     "name": "stdout",
     "output_type": "stream",
     "text": [
      "LinearRegression: 0.809 0.036\n",
      "Ridge: 0.809 0.037\n",
      "Lasso: 0.804 0.042\n",
      "ElasticNet: 0.805 0.038\n"
     ]
    },
    {
     "data": {
      "image/png": "[encoded data removed]",
      "text/plain": [
       "<matplotlib.figure.Figure at 0xb2f22e8>"
      ]
     },
     "metadata": {},
     "output_type": "display_data"
    }
   ],
   "source": [
    "from sklearn.linear_model import LinearRegression, Ridge, Lasso, ElasticNet\n",
    "\n",
    "# create and evaluate pipeline\n",
    "models = []\n",
    "models.append( LinearRegression() )\n",
    "models.append( Ridge(alpha=1.0) )\n",
    "models.append( Lasso(alpha=0.5) )\n",
    "models.append( ElasticNet(alpha=0.1, l1_ratio=0.5) )\n",
    "\n",
    "Xw = X\n",
    "results = evalModels(models, Xw, y, boxPlotOn=True)"
   ]
  },
  {
   "cell_type": "markdown",
   "metadata": {},
   "source": [
    "All linear regression models perform similarly. The linear models with regularization most likely act like a standard linear regressor since the data is standardized. Top performing score is `R²=0.81` with std `0.36` achieved by standard linear regression."
   ]
  },
  {
   "cell_type": "markdown",
   "metadata": {},
   "source": [
    "### 4.2 K-Neigbors  and Support Vector Regression"
   ]
  },
  {
   "cell_type": "code",
   "execution_count": 52,
   "metadata": {
    "collapsed": false
   },
   "outputs": [
    {
     "name": "stdout",
     "output_type": "stream",
     "text": [
      "linearSVR: 0.802 0.044\n",
      "polySVR: 0.798 0.044\n",
      "sigmoidSVR: 0.768 0.052\n",
      "rbfSVR: 0.882 0.034\n",
      "KNeighborsRegressor: 0.856 0.037\n"
     ]
    },
    {
     "data": {
      "image/png": "[encoded data removed]",
      "text/plain": [
       "<matplotlib.figure.Figure at 0xe4aff60>"
      ]
     },
     "metadata": {},
     "output_type": "display_data"
    }
   ],
   "source": [
    "from sklearn.svm import SVR\n",
    "from sklearn.neighbors import KNeighborsRegressor\n",
    "\n",
    "# create and evaluate pipeline\n",
    "models = []\n",
    "models.append( SVR(kernel='linear', C=10, epsilon=0.3, shrinking=False) )\n",
    "models.append( SVR(kernel='poly', C=4, epsilon=0.1, degree=1) )\n",
    "models.append( SVR(kernel='sigmoid', C=0.2) )\n",
    "models.append( SVR(kernel='rbf', C=20, epsilon=1.5) )\n",
    "models.append( KNeighborsRegressor(weights='distance', p=2) )\n",
    "\n",
    "Xw = X\n",
    "results = evalModels(models, Xw, y, boxPlotOn=True)"
   ]
  },
  {
   "cell_type": "markdown",
   "metadata": {},
   "source": [
    "Both K-nearest neighbor and support vector machine regressors are distance-based predictors. \n",
    "\n",
    "The support vector regressor with a linear kernel, `linearSVR`, somewhat mimics the linear regression results above. `SVR` with a polynomial kernel, `polySVR`, converges to `linearSVR` in performance as degree of the polynomial kernel is reduced to 1. The `sigmoidSVR` using a sigmoid kernel is the most inferior of the `SVR` models. \n",
    "\n",
    "The `SVR` model with a radial-basis-function, `rbfSVR`, produces the best performance with `R²=0.88` and std `0.34`. This is the best result achieved in this study.\n",
    "\n",
    "The K-neighbors regressor performance is also very strong. "
   ]
  },
  {
   "cell_type": "markdown",
   "metadata": {},
   "source": [
    "### 4.3 Decision Tree and Bagging regression algorithms"
   ]
  },
  {
   "cell_type": "code",
   "execution_count": 53,
   "metadata": {
    "collapsed": false
   },
   "outputs": [
    {
     "name": "stdout",
     "output_type": "stream",
     "text": [
      "DecisionTreeRegressor: 0.816 0.052\n",
      "ExtraTreeRegressor: 0.803 0.051\n",
      "BaggingRegressor: 0.867 0.035\n",
      "RandomForestRegressor: 0.867 0.030\n",
      "ExtraTreesRegressor: 0.878 0.033\n"
     ]
    },
    {
     "data": {
      "image/png": "[encoded data removed]",
      "text/plain": [
       "<matplotlib.figure.Figure at 0xe0ec358>"
      ]
     },
     "metadata": {},
     "output_type": "display_data"
    }
   ],
   "source": [
    "from sklearn.tree import DecisionTreeRegressor\n",
    "from sklearn.tree import ExtraTreeRegressor\n",
    "from sklearn.ensemble import BaggingRegressor\n",
    "from sklearn.ensemble import RandomForestRegressor\n",
    "from sklearn.ensemble import ExtraTreesRegressor\n",
    "\n",
    "# create and evaluate pipeline\n",
    "models = []\n",
    "models.append( DecisionTreeRegressor(max_leaf_nodes=9, min_samples_leaf=18) )\n",
    "models.append( ExtraTreeRegressor(criterion='mae', max_leaf_nodes=50, min_samples_leaf=4, min_samples_split=6) )\n",
    "cart = DecisionTreeRegressor()\n",
    "models.append( BaggingRegressor(base_estimator=cart, random_state=7, n_estimators=300, max_features=6) )\n",
    "models.append( RandomForestRegressor(n_estimators=100, max_features=4, criterion='mae', max_leaf_nodes=50, min_samples_split=4) )\n",
    "models.append( ExtraTreesRegressor(n_estimators=100, max_features=4, max_depth=1000, min_samples_split=6) )\n",
    "\n",
    "Xw = X\n",
    "plt.rcParams[\"figure.figsize\"] = [10, 4]\n",
    "results = evalModels(models, Xw, y, boxPlotOn=True)\n",
    "plt.rcParams[\"figure.figsize\"] = [6, 4]"
   ]
  },
  {
   "cell_type": "markdown",
   "metadata": {},
   "source": [
    "In this plot we are looking at the perfomance of decision tree variants of regression models. Albeit with a higher std, the basic decision tree regressor, `DecisionTreeRegressor`, performs on average slightly better than linear regression models and its sibling, the `ExtraTreeRegressor`. \n",
    "\n",
    "The three bagging algorithms on the right employ 100-300 trees and show a strong performance with the `ExtraTrees` bagging algorithm almost matching the top performance of `rbfSVR` arriving at `R²=0.88` and std `0.33`. "
   ]
  },
  {
   "cell_type": "markdown",
   "metadata": {},
   "source": [
    "### 4.4 Boosting methods"
   ]
  },
  {
   "cell_type": "code",
   "execution_count": 54,
   "metadata": {
    "collapsed": false
   },
   "outputs": [
    {
     "name": "stdout",
     "output_type": "stream",
     "text": [
      "AdaBoostRegressor: 0.820 0.026\n",
      "GradientBoostingRegressor: 0.851 0.027\n"
     ]
    },
    {
     "data": {
      "image/png": "[encoded data removed]",
      "text/plain": [
       "<matplotlib.figure.Figure at 0xe4bafd0>"
      ]
     },
     "metadata": {},
     "output_type": "display_data"
    }
   ],
   "source": [
    "from sklearn.ensemble import AdaBoostRegressor\n",
    "from sklearn.ensemble import GradientBoostingRegressor\n",
    "\n",
    "# create and evaluate pipeline\n",
    "models = []\n",
    "models.append( AdaBoostRegressor(n_estimators=10, random_state=7) )\n",
    "models.append( GradientBoostingRegressor(n_estimators=80, criterion='mae', max_features=5, min_samples_split=15, random_state=7) )\n",
    "\n",
    "Xw = X\n",
    "results = evalModels(models, Xw, y, boxPlotOn=True)"
   ]
  },
  {
   "cell_type": "markdown",
   "metadata": {},
   "source": [
    "The boosting methods are also decision-tree based as the models covered in the previous section although the optimum number of trees were found to be much lower than that of the bagging methods: `10` for `AdaBoost` and `80` for `GradientBoosting`. Although their average peformance is somewhat lower than the bagging methods, the boosting methods has the lowest std in performance so far: `0.26` for `AdaBoost`."
   ]
  },
  {
   "cell_type": "markdown",
   "metadata": {},
   "source": [
    "### 4.5 Comparison Summary\n",
    "\n",
    "Below is the list of ML methods producing an average R² value larger than 0.85 starting with the highest score:\n",
    "* `SVR` with `rbf` kernel    : 0.882 with std of 0.034\n",
    "* `ExtraTreesRegressor`      : 0.878 with std of 0.033\n",
    "* `RandomForestRegressor`    : 0.867 with std of 0.030\n",
    "* `BaggingRegressor`         : 0.867 with std of 0.035\n",
    "* `KNeighborsRegressor`      : 0.856 with std of 0.037\n",
    "* `GradientBoostingRegressor`: 0.851 with std of 0.027"
   ]
  },
  {
   "cell_type": "markdown",
   "metadata": {},
   "source": [
    "***\n",
    "## 5. Algorithm Tuning"
   ]
  },
  {
   "cell_type": "markdown",
   "metadata": {},
   "source": [
    "### 5.1 Grid Search Parameter Tuning"
   ]
  },
  {
   "cell_type": "code",
   "execution_count": 8,
   "metadata": {
    "collapsed": false
   },
   "outputs": [
    {
     "name": "stdout",
     "output_type": "stream",
     "text": [
      "0.809570605568\n",
      "1.0\n"
     ]
    }
   ],
   "source": [
    "# Standardize data (0 mean, 1 stdev)\n",
    "from sklearn.preprocessing import StandardScaler\n",
    "scaler = StandardScaler().fit(X)\n",
    "standardizedX = scaler.transform(X)\n",
    "Xw = standardizedX\n",
    "from sklearn.model_selection import KFold\n",
    "\n",
    "# Grid Search for Algorithm Tuning\n",
    "from sklearn.linear_model import Ridge\n",
    "from sklearn.model_selection import GridSearchCV\n",
    "\n",
    "alphas = np.array([1,0.5,0.2,0.1,0.01,0.001,0.0001,0])\n",
    "param_grid = dict(alpha=alphas)\n",
    "model = Ridge()\n",
    "kfold = KFold(n_splits=8, random_state=6, shuffle=True)\n",
    "\n",
    "grid = GridSearchCV(estimator=model, param_grid=param_grid, cv=kfold)\n",
    "grid.fit(Xw, y)\n",
    "print(grid.best_score_)\n",
    "print(grid.best_estimator_.alpha)\n",
    "#print grid.cv_results_"
   ]
  },
  {
   "cell_type": "markdown",
   "metadata": {},
   "source": [
    "### 5.2 Random Search Parameter Tuning"
   ]
  },
  {
   "cell_type": "code",
   "execution_count": 9,
   "metadata": {
    "collapsed": false
   },
   "outputs": [
    {
     "name": "stdout",
     "output_type": "stream",
     "text": [
      "0.809570412842\n",
      "0.994207438422\n"
     ]
    }
   ],
   "source": [
    "Xw = standardizedX\n",
    "\n",
    "# Randomized for Algorithm Tuning\n",
    "from scipy.stats import uniform\n",
    "from sklearn.linear_model import Ridge\n",
    "from sklearn.model_selection import RandomizedSearchCV\n",
    "\n",
    "param_grid = {'alpha': uniform()}\n",
    "seed=6\n",
    "model = Ridge()\n",
    "kfold = KFold(n_splits=8, random_state=seed, shuffle=True)\n",
    "\n",
    "rsearch = RandomizedSearchCV(estimator=model, param_distributions=param_grid, n_iter=100, cv=kfold, random_state=seed)\n",
    "rsearch.fit(Xw, y)\n",
    "print(rsearch.best_score_)\n",
    "print(rsearch.best_estimator_.alpha)"
   ]
  },
  {
   "cell_type": "code",
   "execution_count": null,
   "metadata": {
    "collapsed": true
   },
   "outputs": [],
   "source": []
  }
 ],
 "metadata": {
  "anaconda-cloud": {},
  "kernelspec": {
   "display_name": "Python [conda root]",
   "language": "python",
   "name": "conda-root-py"
  },
  "language_info": {
   "codemirror_mode": {
    "name": "ipython",
    "version": 2
   },
   "file_extension": ".py",
   "mimetype": "text/x-python",
   "name": "python",
   "nbconvert_exporter": "python",
   "pygments_lexer": "ipython2",
   "version": "2.7.12"
  }
 },
 "nbformat": 4,
 "nbformat_minor": 1
}
