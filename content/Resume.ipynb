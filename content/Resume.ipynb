{
  "cells": [
    {
      "cell_type": "markdown",
      "source": [
        "# Fatih Sarigoz\n",
        "\n",
        "E-mail: fsarigoz@gmail.com\n",
        "<br />Blog: [www.fatihsarigoz.com](www.fatihsarigoz.com)\n",
        "<br />LinkedIn: https://www.linkedin.com/in/fatihsarigoz"
      ],
      "metadata": {}
    },
    {
      "cell_type": "markdown",
      "source": [
        "## Summary\n",
        "Looking for a challenging leadership position in Data Science (DS). Established the DS team at Ellie Mae and developed multiple machine learning (ML) solutions for the mortgage process in less than 12 months. 15+ years of practitioner of ML algorithms. Strong believer in super precision in the definition of the product problem and super alignment of all stakeholders in product development for timely delivery of ML solutions. “Hands-on” managerial style.\n",
        "* Strong background in data science, machine learning, probability and statistics theory, signal processing, computer vision and algorithms.\n",
        "* Currently on a promising managerial track at Ellie Mae working on multiple products. "
      ],
      "metadata": {}
    },
    {
      "cell_type": "markdown",
      "source": [
        "## Work Experience"
      ],
      "metadata": {}
    },
    {
      "cell_type": "markdown",
      "source": [
        "Ellie Mae &nbsp;&nbsp;&nbsp;&nbsp;&nbsp;   Pleasanton, CA &nbsp;&nbsp;&nbsp;&nbsp;&nbsp;\t 2017-Present\n",
        "<br />**Senior Manager, Data Science** \n",
        "* Started as the Lead Data Scientist and grew the team to 7 people as manager. Team has been structured to develop ML solutions and build them as services in production. Established a DS workflow with super-focus on early prototype development and deployment.\n",
        "* Have been leading all the efforts to operationalize DS in the company ranging from establishing data access protocols, defining Datafication strategy in the company, establishing a special exploration AWS environment running a 3rd party workbench platform, driving end-to-end prototype development in collaboration with other teams, to organizing presentations and demos for raising ML awareness. \n",
        "* **Projects:** Loan propensity estimation, Loan closure forecasting, Loan data quality definition and assessment, Detection of bias in lending, Borrower lead prioritization and immediacy of action prediction, Labeling tool based on active learning, Computer Vision based preprocessor, Text extraction quality assessment, Image and Text based feature engineering, Document Classifier using Deep Learning, Automatic named entity extraction. \n"
      ],
      "metadata": {}
    },
    {
      "cell_type": "markdown",
      "source": [
        "Croweer Inc. &nbsp;&nbsp;&nbsp;&nbsp;&nbsp;  San Jose, CA &nbsp;&nbsp;&nbsp;&nbsp;&nbsp;\t2015-2016\n",
        "<br />**CEO** \n",
        "* Started my own company that targeted the development of an on-site and online English learning system using the latest neuro-cognitive learning techniques and a fast nonlinear curriculum with special focus on language production.\n",
        "* Successfully tested developed system on-site on two groups of adult English learners. "
      ],
      "metadata": {}
    },
    {
      "cell_type": "markdown",
      "source": [
        "Western Digital Corporation &nbsp;&nbsp;&nbsp;&nbsp;&nbsp;   San Jose, CA &nbsp;&nbsp;&nbsp;&nbsp;&nbsp;\t2008-2015\n",
        "<br />**Staff Engineer, Advanced Channel Group**\n",
        "* Main responsibility was the development and support for the self-servo-write channel technology in Western Digital hard disk system which involve the estimation and prediction of head-positioning on a data track. \n",
        "* Development of new features, ownership of the self-servo-write technology spec and the technical validation spec for various generations of read channels. Direct support and coordination of vendor support for all issues.\n",
        "* Testing and development of testing tools in Matlab for self-servo-write features."
      ],
      "metadata": {}
    },
    {
      "cell_type": "markdown",
      "source": [
        "Broadcom Corporation  &nbsp;&nbsp;&nbsp;&nbsp;&nbsp;  San Jose, CA\t&nbsp;&nbsp;&nbsp;&nbsp;&nbsp;    2004-2008\n",
        "<br />**Principal Scientist, Read Channel Architecture** \n",
        "* Main system architect for the signal processing of the servo data channel. Duties included developing DSP algorithms, running performance simulations, writing a design spec, and implementing bit-true fixed-point design in C++/Matlab for RTL verification for the servo data channel for various platforms. \n",
        "* Issues worked on in servo data channel (baseband PAM) design include: reliable preamble detection (i.e., locating the servo data channel preamble on the disk), sync mark detection, signal polarity detection, CTF and FIR equalization and optimization, timing and gain acquisition with initial startup, signal interpolation, data detection, waveform coding for reliable data detection, error correction coding for servo data, performance quality metrics.  "
      ],
      "metadata": {}
    },
    {
      "cell_type": "markdown",
      "source": [
        "Agere Systems  &nbsp;&nbsp;&nbsp;&nbsp;&nbsp;   Allentown, PA  &nbsp;&nbsp;&nbsp;&nbsp;&nbsp; \t2000-2004\n",
        "<br />**Member of Technical Staff , Read Channel Architecture**\n",
        "* Member of the read data channel team contributing to four generations of read channel platforms. \n",
        "* Projects: Fixed-point implementation and verification of noise-predictive maximum likelihood and parity post processor blocks, error event classification and analysis, investigation of optimal partial response targets, improved sync mark detection for the servo data channel, constrained digital FIR (linear regression) implementation for the servo data channel, improved phase and frequency acquisition for the servo data channel. "
      ],
      "metadata": {}
    },
    {
      "cell_type": "markdown",
      "source": [
        "## Education"
      ],
      "metadata": {}
    },
    {
      "cell_type": "markdown",
      "source": [
        "Carnegie Mellon University\t&nbsp;&nbsp;&nbsp;&nbsp;&nbsp;  Pittsburgh, PA \t&nbsp;&nbsp;&nbsp;&nbsp;&nbsp;   1996-2001\n",
        "<br />**Ph.D., Electrical Engineering**\n",
        "* Advisors: Prof. Vijaya Kumar and Prof. James Bain\n",
        "* Thesis Subject: Characterization and Mitigation of Dropouts (Fast Fading Channels) in Magnetic Tape Recording: A Read Channel Perspective"
      ],
      "metadata": {}
    },
    {
      "cell_type": "markdown",
      "source": [
        "Carnegie Mellon University\t&nbsp;&nbsp;&nbsp;&nbsp;&nbsp;  Pittsburgh, PA \t&nbsp;&nbsp;&nbsp;&nbsp;&nbsp;  1994-1996\n",
        "<br />**MS, Electrical Engineering**\n",
        "* Advisor: Prof. Vijaya Kumar\n",
        "* Master Thesis: Equalization of Magnetic Recording Channels using Artificial Neural Networks in the Presence of Peak Asymmetry"
      ],
      "metadata": {}
    },
    {
      "cell_type": "markdown",
      "source": [
        "Bogazici University &nbsp;&nbsp;&nbsp;&nbsp;&nbsp;  Istanbul, TURKEY  &nbsp;&nbsp;&nbsp;&nbsp;&nbsp;  1989-1994\n",
        "<br />**BS, Electrical Engineering and Physics**\n",
        "* Senior Project: Use of K-means clustering on textile images"
      ],
      "metadata": {}
    },
    {
      "cell_type": "markdown",
      "source": [
        "## Tools\n",
        "Python, Ipython, Pandas, Scikit-Learn, Spark, OpenCV, Matlab, C/C++, JavaScript, SQL"
      ],
      "metadata": {}
    },
    {
      "cell_type": "markdown",
      "source": [
        "## Courses\n",
        "* Image Processing\n",
        "* Neural Networks\n",
        "* Introduction to Magnetic Recording\n",
        "* Digital Communications\n",
        "* Advanced Digital Communications\n",
        "* Estimation Theory\n",
        "* Probability and Stochastic Processes\n",
        "* Linear System Control\n",
        "* Optical Signal Processing\n",
        "* Wireless Communications\n",
        "* Error Control Codes\n",
        "* Learning How to Learn (Coursera)\n",
        "* Statistical Inference (Coursera)\n",
        "* Python (Codacademy)\n",
        "* SQL (Codacademy)\n",
        "* HTML/CSS (Codacademy)\n",
        "* Javascript (Codacademy)\n"
      ],
      "metadata": {}
    },
    {
      "cell_type": "markdown",
      "source": [
        "## Publications"
      ],
      "metadata": {}
    },
    {
      "cell_type": "markdown",
      "source": [
        "* F. Sarigoz, H. Song, B.V.K.V. Kumar, J. Bain, “Dropout Tolerant Read Channels”, IEEE Jour. on Sel. Areas in Comm. (Special issue on signal processing for high density storage channels), Vol. 19, No. 4, pp. 744-755, April 2001.\n",
        "* F. Sarigoz, B.V.K.V. Kumar, J. Bain, “Performance of Dropout Correction on Real Magnetic Tape Waveforms with Dropouts”, IEEE Trans. on Magnetics, Vol. 37, No.2, pp. 639-645, March 2001.\n",
        "* F. Sarigoz, G. Li, B.V.K.V. Kumar, J. Bain, “Analysis of Dropout Peakshift in Magnetic Tape Recording”, IEEE Trans. on Magnetics, Vol. 36, pp. 2170-2172, Sept. 2000.\n",
        "* F. Sarigoz, B.V.K.V. Kumar, J. Bain, “Mitigating the Effects of Dropouts in Magnetic Tape Recording: A Read Channel Perspective”, Session B, TMRC 2000 Conference (invited paper), Santa Clara, CA, USA, August 14-16 2000.  \n",
        "* F. Sarigoz, B.V.K.V. Kumar, J. Bain, “Characterization and Equalization of Dropouts in the Magnetic Tape Recording Channel”, Paper #3547, ICASSP 2000 Conference, Istanbul, Turkey, June 2000. \n",
        "* F. Sarigoz, G. Li, B.V.K.V. Kumar, J. Bain, “Analysis of Dropout Peakshift in Magnetic Tape Recording”, Paper AD-12, Intermag 2000 Conference, Toronto, Canada, April 2000.\n",
        "* F. Sarigoz, B.V.K. Vijaya Kumar, M. Kowarz, “Tilt Analysis of Readback Signals from DVD-ROM Media”, Proc. of SPIE, Vol. 3401, pp. 232-241, May 1998.\n",
        "* F. Sarigoz, I. Ozgunes, B.V.K.V. Kumar, “Investigation of Partial Response Equalization of Read Channels”, OSA Annual Meeting, Rochester, USA, October 1996.\n",
        "* F. Sarigoz, “Equalization of Magnetic Recording Channels using Artificial Neural Networks in the Presence of Peak Asymmetry”, M.S. Thesis, Dept. of Electrical and Computer Engineering, Carnegie Mellon University, 1996.\n",
        "* A. Ibrahim, F. Sarigoz, B.V.K. Vijaya Kumar, “Equalization of Magnetic Recording Signals Using Artificial Neural Networks”, Proc. of SPIE, Vol. 2605, October 1995. \n",
        "* L. Akarun, M. Mazlumoglu, F. Sarigoz, “Vector Quantization of Color Images Using Color Ordering”, Proc. of ISCIS 9, pp. 735-741, Antalya, Turkey, November 1994.\n",
        "* L. Akarun, F. Sarigoz, “Vector Quantization of Textile Patterns for Jacquard Looms”, Proc. of MELECON, pp. 109-112, Antalya, Turkey, May 1994. "
      ],
      "metadata": {}
    },
    {
      "cell_type": "markdown",
      "source": [
        "## Patents"
      ],
      "metadata": {}
    },
    {
      "cell_type": "markdown",
      "source": [
        "* F. Sarigoz, V. Annampedu, “Address Mark Detection”, published patent application, #20060023603, July 2004.\n",
        "* T. Lau, R. Wong, F. Sarigoz, A. Nazarian, “Method for establishing and maintaining radial position for hard disk drive self-servo-write without seed wedges”, published patent application, #20070211367, April 2006. \n"
      ],
      "metadata": {}
    }
  ],
  "metadata": {
    "anaconda-cloud": {},
    "kernelspec": {
      "display_name": "Python [conda root]",
      "language": "python",
      "name": "conda-root-py"
    },
    "language_info": {
      "codemirror_mode": {
        "name": "ipython",
        "version": 2
      },
      "file_extension": ".py",
      "mimetype": "text/x-python",
      "name": "python",
      "nbconvert_exporter": "python",
      "pygments_lexer": "ipython2",
      "version": "2.7.12"
    },
    "nteract": {
      "version": "0.14.2"
    }
  },
  "nbformat": 4,
  "nbformat_minor": 2
}